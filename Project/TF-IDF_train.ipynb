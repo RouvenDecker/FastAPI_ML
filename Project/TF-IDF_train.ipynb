{
 "cells": [
  {
   "cell_type": "code",
   "execution_count": 371,
   "id": "6cf21a14",
   "metadata": {},
   "outputs": [],
   "source": [
    "import pandas as pd\n",
    "import numpy as np\n",
    "import re\n",
    "from vaderSentiment.vaderSentiment import SentimentIntensityAnalyzer\n",
    "from sklearn.preprocessing import LabelEncoder"
   ]
  },
  {
   "cell_type": "code",
   "execution_count": 372,
   "id": "b8a56fb4",
   "metadata": {},
   "outputs": [],
   "source": [
    "total = pd.read_csv(\"data/tfidf_SVC_training.csv\")"
   ]
  },
  {
   "cell_type": "code",
   "execution_count": 373,
   "id": "9e6b21ec",
   "metadata": {},
   "outputs": [
    {
     "data": {
      "text/html": [
       "<div>\n",
       "<style scoped>\n",
       "    .dataframe tbody tr th:only-of-type {\n",
       "        vertical-align: middle;\n",
       "    }\n",
       "\n",
       "    .dataframe tbody tr th {\n",
       "        vertical-align: top;\n",
       "    }\n",
       "\n",
       "    .dataframe thead th {\n",
       "        text-align: right;\n",
       "    }\n",
       "</style>\n",
       "<table border=\"1\" class=\"dataframe\">\n",
       "  <thead>\n",
       "    <tr style=\"text-align: right;\">\n",
       "      <th></th>\n",
       "      <th>label</th>\n",
       "      <th>id</th>\n",
       "      <th>date</th>\n",
       "      <th>stuff</th>\n",
       "      <th>name</th>\n",
       "      <th>text</th>\n",
       "    </tr>\n",
       "  </thead>\n",
       "  <tbody>\n",
       "    <tr>\n",
       "      <th>0</th>\n",
       "      <td>0</td>\n",
       "      <td>2284311891</td>\n",
       "      <td>Mon Jun 22 13:43:42 PDT 2009</td>\n",
       "      <td>NO_QUERY</td>\n",
       "      <td>kaysleecolleen</td>\n",
       "      <td>@ddlovato so sorry about your voice  just know...</td>\n",
       "    </tr>\n",
       "    <tr>\n",
       "      <th>1</th>\n",
       "      <td>4</td>\n",
       "      <td>1831238993</td>\n",
       "      <td>Sun May 17 18:29:28 PDT 2009</td>\n",
       "      <td>NO_QUERY</td>\n",
       "      <td>vpennino</td>\n",
       "      <td>@ListPlanIt I prefer a nice pen with a thick p...</td>\n",
       "    </tr>\n",
       "    <tr>\n",
       "      <th>2</th>\n",
       "      <td>0</td>\n",
       "      <td>1694978230</td>\n",
       "      <td>Mon May 04 04:48:29 PDT 2009</td>\n",
       "      <td>NO_QUERY</td>\n",
       "      <td>theweirdwriter</td>\n",
       "      <td>Gloomy day here  I know that we need the rain,...</td>\n",
       "    </tr>\n",
       "    <tr>\n",
       "      <th>3</th>\n",
       "      <td>4</td>\n",
       "      <td>2181702252</td>\n",
       "      <td>Mon Jun 15 12:10:56 PDT 2009</td>\n",
       "      <td>NO_QUERY</td>\n",
       "      <td>AndreMJonesJr</td>\n",
       "      <td>@Summa_Reign ooooh.  well let's keep our finge...</td>\n",
       "    </tr>\n",
       "    <tr>\n",
       "      <th>4</th>\n",
       "      <td>0</td>\n",
       "      <td>2182272034</td>\n",
       "      <td>Mon Jun 15 12:57:10 PDT 2009</td>\n",
       "      <td>NO_QUERY</td>\n",
       "      <td>themaineisluvx3</td>\n",
       "      <td>It sucks when the guy you like likes someone e...</td>\n",
       "    </tr>\n",
       "    <tr>\n",
       "      <th>5</th>\n",
       "      <td>0</td>\n",
       "      <td>2050655071</td>\n",
       "      <td>Fri Jun 05 19:03:37 PDT 2009</td>\n",
       "      <td>NO_QUERY</td>\n",
       "      <td>amywong26</td>\n",
       "      <td>@richardtsang I was outside on the field of gr...</td>\n",
       "    </tr>\n",
       "    <tr>\n",
       "      <th>6</th>\n",
       "      <td>0</td>\n",
       "      <td>1978119622</td>\n",
       "      <td>Sat May 30 22:29:37 PDT 2009</td>\n",
       "      <td>NO_QUERY</td>\n",
       "      <td>nanchunja</td>\n",
       "      <td>Just finished ball. Facing the reality of assi...</td>\n",
       "    </tr>\n",
       "    <tr>\n",
       "      <th>7</th>\n",
       "      <td>4</td>\n",
       "      <td>2191518259</td>\n",
       "      <td>Tue Jun 16 05:26:36 PDT 2009</td>\n",
       "      <td>NO_QUERY</td>\n",
       "      <td>davidaguirre</td>\n",
       "      <td>'How can you live with yourself you horrible m...</td>\n",
       "    </tr>\n",
       "    <tr>\n",
       "      <th>8</th>\n",
       "      <td>4</td>\n",
       "      <td>1970545153</td>\n",
       "      <td>Sat May 30 04:17:39 PDT 2009</td>\n",
       "      <td>NO_QUERY</td>\n",
       "      <td>ohdesu</td>\n",
       "      <td>IM WITH PIGGGGY</td>\n",
       "    </tr>\n",
       "    <tr>\n",
       "      <th>9</th>\n",
       "      <td>4</td>\n",
       "      <td>2185464930</td>\n",
       "      <td>Mon Jun 15 17:25:20 PDT 2009</td>\n",
       "      <td>NO_QUERY</td>\n",
       "      <td>Doll_Doll</td>\n",
       "      <td>is watching Fringe. Josh Jackson will always b...</td>\n",
       "    </tr>\n",
       "  </tbody>\n",
       "</table>\n",
       "</div>"
      ],
      "text/plain": [
       "   label          id                          date     stuff             name  \\\n",
       "0      0  2284311891  Mon Jun 22 13:43:42 PDT 2009  NO_QUERY   kaysleecolleen   \n",
       "1      4  1831238993  Sun May 17 18:29:28 PDT 2009  NO_QUERY         vpennino   \n",
       "2      0  1694978230  Mon May 04 04:48:29 PDT 2009  NO_QUERY   theweirdwriter   \n",
       "3      4  2181702252  Mon Jun 15 12:10:56 PDT 2009  NO_QUERY    AndreMJonesJr   \n",
       "4      0  2182272034  Mon Jun 15 12:57:10 PDT 2009  NO_QUERY  themaineisluvx3   \n",
       "5      0  2050655071  Fri Jun 05 19:03:37 PDT 2009  NO_QUERY        amywong26   \n",
       "6      0  1978119622  Sat May 30 22:29:37 PDT 2009  NO_QUERY        nanchunja   \n",
       "7      4  2191518259  Tue Jun 16 05:26:36 PDT 2009  NO_QUERY     davidaguirre   \n",
       "8      4  1970545153  Sat May 30 04:17:39 PDT 2009  NO_QUERY           ohdesu   \n",
       "9      4  2185464930  Mon Jun 15 17:25:20 PDT 2009  NO_QUERY        Doll_Doll   \n",
       "\n",
       "                                                text  \n",
       "0  @ddlovato so sorry about your voice  just know...  \n",
       "1  @ListPlanIt I prefer a nice pen with a thick p...  \n",
       "2  Gloomy day here  I know that we need the rain,...  \n",
       "3  @Summa_Reign ooooh.  well let's keep our finge...  \n",
       "4  It sucks when the guy you like likes someone e...  \n",
       "5  @richardtsang I was outside on the field of gr...  \n",
       "6  Just finished ball. Facing the reality of assi...  \n",
       "7  'How can you live with yourself you horrible m...  \n",
       "8                                   IM WITH PIGGGGY   \n",
       "9  is watching Fringe. Josh Jackson will always b...  "
      ]
     },
     "execution_count": 373,
     "metadata": {},
     "output_type": "execute_result"
    }
   ],
   "source": [
    "total.head(10)"
   ]
  },
  {
   "cell_type": "code",
   "execution_count": 374,
   "id": "04be5ebb",
   "metadata": {},
   "outputs": [
    {
     "data": {
      "text/plain": [
       "(10000, 6)"
      ]
     },
     "execution_count": 374,
     "metadata": {},
     "output_type": "execute_result"
    }
   ],
   "source": [
    "total.shape"
   ]
  },
  {
   "cell_type": "code",
   "execution_count": 375,
   "id": "e2bc17b8",
   "metadata": {},
   "outputs": [],
   "source": [
    "data = total[[\"text\", \"label\"]]"
   ]
  },
  {
   "cell_type": "markdown",
   "id": "040ed1b7",
   "metadata": {},
   "source": [
    "(0 = negative, 2 = neutral, 4 = positive)"
   ]
  },
  {
   "cell_type": "code",
   "execution_count": 376,
   "id": "f7e5b1e9",
   "metadata": {},
   "outputs": [
    {
     "name": "stderr",
     "output_type": "stream",
     "text": [
      "/tmp/ipykernel_96119/3603516048.py:2: SettingWithCopyWarning: \n",
      "A value is trying to be set on a copy of a slice from a DataFrame.\n",
      "Try using .loc[row_indexer,col_indexer] = value instead\n",
      "\n",
      "See the caveats in the documentation: https://pandas.pydata.org/pandas-docs/stable/user_guide/indexing.html#returning-a-view-versus-a-copy\n",
      "  data[\"sentiment\"] = data[\"label\"].apply(lambda x: polarity[x])\n"
     ]
    },
    {
     "data": {
      "text/plain": [
       "sentiment\n",
       "positive    5065\n",
       "negative    4935\n",
       "Name: count, dtype: int64"
      ]
     },
     "execution_count": 376,
     "metadata": {},
     "output_type": "execute_result"
    }
   ],
   "source": [
    "polarity = {0: \"negative\", 2: \"neutral\", 4: \"positive\"}\n",
    "data[\"sentiment\"] = data[\"label\"].apply(lambda x: polarity[x])\n",
    "data[\"sentiment\"].value_counts()"
   ]
  },
  {
   "cell_type": "code",
   "execution_count": 377,
   "id": "8c125405",
   "metadata": {},
   "outputs": [
    {
     "name": "stderr",
     "output_type": "stream",
     "text": [
      "/tmp/ipykernel_96119/3635157040.py:3: SettingWithCopyWarning: \n",
      "A value is trying to be set on a copy of a slice from a DataFrame.\n",
      "Try using .loc[row_indexer,col_indexer] = value instead\n",
      "\n",
      "See the caveats in the documentation: https://pandas.pydata.org/pandas-docs/stable/user_guide/indexing.html#returning-a-view-versus-a-copy\n",
      "  data[\"label\"] = data[\"label\"].apply(lambda x: polarity_change[x])\n"
     ]
    },
    {
     "data": {
      "text/html": [
       "<div>\n",
       "<style scoped>\n",
       "    .dataframe tbody tr th:only-of-type {\n",
       "        vertical-align: middle;\n",
       "    }\n",
       "\n",
       "    .dataframe tbody tr th {\n",
       "        vertical-align: top;\n",
       "    }\n",
       "\n",
       "    .dataframe thead th {\n",
       "        text-align: right;\n",
       "    }\n",
       "</style>\n",
       "<table border=\"1\" class=\"dataframe\">\n",
       "  <thead>\n",
       "    <tr style=\"text-align: right;\">\n",
       "      <th></th>\n",
       "      <th>text</th>\n",
       "      <th>label</th>\n",
       "      <th>sentiment</th>\n",
       "    </tr>\n",
       "  </thead>\n",
       "  <tbody>\n",
       "    <tr>\n",
       "      <th>0</th>\n",
       "      <td>@ddlovato so sorry about your voice  just know...</td>\n",
       "      <td>0</td>\n",
       "      <td>negative</td>\n",
       "    </tr>\n",
       "    <tr>\n",
       "      <th>1</th>\n",
       "      <td>@ListPlanIt I prefer a nice pen with a thick p...</td>\n",
       "      <td>1</td>\n",
       "      <td>positive</td>\n",
       "    </tr>\n",
       "    <tr>\n",
       "      <th>2</th>\n",
       "      <td>Gloomy day here  I know that we need the rain,...</td>\n",
       "      <td>0</td>\n",
       "      <td>negative</td>\n",
       "    </tr>\n",
       "    <tr>\n",
       "      <th>3</th>\n",
       "      <td>@Summa_Reign ooooh.  well let's keep our finge...</td>\n",
       "      <td>1</td>\n",
       "      <td>positive</td>\n",
       "    </tr>\n",
       "    <tr>\n",
       "      <th>4</th>\n",
       "      <td>It sucks when the guy you like likes someone e...</td>\n",
       "      <td>0</td>\n",
       "      <td>negative</td>\n",
       "    </tr>\n",
       "    <tr>\n",
       "      <th>5</th>\n",
       "      <td>@richardtsang I was outside on the field of gr...</td>\n",
       "      <td>0</td>\n",
       "      <td>negative</td>\n",
       "    </tr>\n",
       "    <tr>\n",
       "      <th>6</th>\n",
       "      <td>Just finished ball. Facing the reality of assi...</td>\n",
       "      <td>0</td>\n",
       "      <td>negative</td>\n",
       "    </tr>\n",
       "    <tr>\n",
       "      <th>7</th>\n",
       "      <td>'How can you live with yourself you horrible m...</td>\n",
       "      <td>1</td>\n",
       "      <td>positive</td>\n",
       "    </tr>\n",
       "    <tr>\n",
       "      <th>8</th>\n",
       "      <td>IM WITH PIGGGGY</td>\n",
       "      <td>1</td>\n",
       "      <td>positive</td>\n",
       "    </tr>\n",
       "    <tr>\n",
       "      <th>9</th>\n",
       "      <td>is watching Fringe. Josh Jackson will always b...</td>\n",
       "      <td>1</td>\n",
       "      <td>positive</td>\n",
       "    </tr>\n",
       "  </tbody>\n",
       "</table>\n",
       "</div>"
      ],
      "text/plain": [
       "                                                text  label sentiment\n",
       "0  @ddlovato so sorry about your voice  just know...      0  negative\n",
       "1  @ListPlanIt I prefer a nice pen with a thick p...      1  positive\n",
       "2  Gloomy day here  I know that we need the rain,...      0  negative\n",
       "3  @Summa_Reign ooooh.  well let's keep our finge...      1  positive\n",
       "4  It sucks when the guy you like likes someone e...      0  negative\n",
       "5  @richardtsang I was outside on the field of gr...      0  negative\n",
       "6  Just finished ball. Facing the reality of assi...      0  negative\n",
       "7  'How can you live with yourself you horrible m...      1  positive\n",
       "8                                   IM WITH PIGGGGY       1  positive\n",
       "9  is watching Fringe. Josh Jackson will always b...      1  positive"
      ]
     },
     "execution_count": 377,
     "metadata": {},
     "output_type": "execute_result"
    }
   ],
   "source": [
    "polarity_change = {0: 0, 2: 2, 4: 1}\n",
    "\n",
    "data[\"label\"] = data[\"label\"].apply(lambda x: polarity_change[x])\n",
    "\n",
    "data.head(10)\n"
   ]
  },
  {
   "cell_type": "code",
   "execution_count": 378,
   "id": "c423d098",
   "metadata": {},
   "outputs": [
    {
     "name": "stdout",
     "output_type": "stream",
     "text": [
      "<class 'pandas.core.frame.DataFrame'>\n",
      "RangeIndex: 10000 entries, 0 to 9999\n",
      "Data columns (total 3 columns):\n",
      " #   Column     Non-Null Count  Dtype \n",
      "---  ------     --------------  ----- \n",
      " 0   text       10000 non-null  object\n",
      " 1   label      10000 non-null  int64 \n",
      " 2   sentiment  10000 non-null  object\n",
      "dtypes: int64(1), object(2)\n",
      "memory usage: 234.5+ KB\n"
     ]
    }
   ],
   "source": [
    "data.info()\n"
   ]
  },
  {
   "cell_type": "code",
   "execution_count": 379,
   "id": "b101eadf",
   "metadata": {},
   "outputs": [
    {
     "name": "stderr",
     "output_type": "stream",
     "text": [
      "/tmp/ipykernel_96119/445619657.py:2: SettingWithCopyWarning: \n",
      "A value is trying to be set on a copy of a slice from a DataFrame.\n",
      "Try using .loc[row_indexer,col_indexer] = value instead\n",
      "\n",
      "See the caveats in the documentation: https://pandas.pydata.org/pandas-docs/stable/user_guide/indexing.html#returning-a-view-versus-a-copy\n",
      "  data.loc[:, \"text_cleaned\"] = data.loc[:, \"text\"].apply(lambda x: x.lower())\n"
     ]
    },
    {
     "data": {
      "text/html": [
       "<div>\n",
       "<style scoped>\n",
       "    .dataframe tbody tr th:only-of-type {\n",
       "        vertical-align: middle;\n",
       "    }\n",
       "\n",
       "    .dataframe tbody tr th {\n",
       "        vertical-align: top;\n",
       "    }\n",
       "\n",
       "    .dataframe thead th {\n",
       "        text-align: right;\n",
       "    }\n",
       "</style>\n",
       "<table border=\"1\" class=\"dataframe\">\n",
       "  <thead>\n",
       "    <tr style=\"text-align: right;\">\n",
       "      <th></th>\n",
       "      <th>text</th>\n",
       "      <th>label</th>\n",
       "      <th>sentiment</th>\n",
       "      <th>text_cleaned</th>\n",
       "    </tr>\n",
       "  </thead>\n",
       "  <tbody>\n",
       "    <tr>\n",
       "      <th>0</th>\n",
       "      <td>@ddlovato so sorry about your voice  just know...</td>\n",
       "      <td>0</td>\n",
       "      <td>negative</td>\n",
       "      <td>so sorry about your voice  just know that your...</td>\n",
       "    </tr>\n",
       "    <tr>\n",
       "      <th>1</th>\n",
       "      <td>@ListPlanIt I prefer a nice pen with a thick p...</td>\n",
       "      <td>1</td>\n",
       "      <td>positive</td>\n",
       "      <td>i prefer a nice pen with a thick pad of paper</td>\n",
       "    </tr>\n",
       "    <tr>\n",
       "      <th>2</th>\n",
       "      <td>Gloomy day here  I know that we need the rain,...</td>\n",
       "      <td>0</td>\n",
       "      <td>negative</td>\n",
       "      <td>gloomy day here  i know that we need the rain ...</td>\n",
       "    </tr>\n",
       "    <tr>\n",
       "      <th>3</th>\n",
       "      <td>@Summa_Reign ooooh.  well let's keep our finge...</td>\n",
       "      <td>1</td>\n",
       "      <td>positive</td>\n",
       "      <td>ooooh  well lets keep our fingers crossed then</td>\n",
       "    </tr>\n",
       "    <tr>\n",
       "      <th>4</th>\n",
       "      <td>It sucks when the guy you like likes someone e...</td>\n",
       "      <td>0</td>\n",
       "      <td>negative</td>\n",
       "      <td>it sucks when the guy you like likes someone e...</td>\n",
       "    </tr>\n",
       "    <tr>\n",
       "      <th>5</th>\n",
       "      <td>@richardtsang I was outside on the field of gr...</td>\n",
       "      <td>0</td>\n",
       "      <td>negative</td>\n",
       "      <td>i was outside on the field of grass my sis was...</td>\n",
       "    </tr>\n",
       "    <tr>\n",
       "      <th>6</th>\n",
       "      <td>Just finished ball. Facing the reality of assi...</td>\n",
       "      <td>0</td>\n",
       "      <td>negative</td>\n",
       "      <td>just finished ball facing the reality of assig...</td>\n",
       "    </tr>\n",
       "    <tr>\n",
       "      <th>7</th>\n",
       "      <td>'How can you live with yourself you horrible m...</td>\n",
       "      <td>1</td>\n",
       "      <td>positive</td>\n",
       "      <td>how can you live with yourself you horrible ma...</td>\n",
       "    </tr>\n",
       "    <tr>\n",
       "      <th>8</th>\n",
       "      <td>IM WITH PIGGGGY</td>\n",
       "      <td>1</td>\n",
       "      <td>positive</td>\n",
       "      <td>im with piggggy</td>\n",
       "    </tr>\n",
       "    <tr>\n",
       "      <th>9</th>\n",
       "      <td>is watching Fringe. Josh Jackson will always b...</td>\n",
       "      <td>1</td>\n",
       "      <td>positive</td>\n",
       "      <td>is watching fringe josh jackson will always be...</td>\n",
       "    </tr>\n",
       "  </tbody>\n",
       "</table>\n",
       "</div>"
      ],
      "text/plain": [
       "                                                text  label sentiment  \\\n",
       "0  @ddlovato so sorry about your voice  just know...      0  negative   \n",
       "1  @ListPlanIt I prefer a nice pen with a thick p...      1  positive   \n",
       "2  Gloomy day here  I know that we need the rain,...      0  negative   \n",
       "3  @Summa_Reign ooooh.  well let's keep our finge...      1  positive   \n",
       "4  It sucks when the guy you like likes someone e...      0  negative   \n",
       "5  @richardtsang I was outside on the field of gr...      0  negative   \n",
       "6  Just finished ball. Facing the reality of assi...      0  negative   \n",
       "7  'How can you live with yourself you horrible m...      1  positive   \n",
       "8                                   IM WITH PIGGGGY       1  positive   \n",
       "9  is watching Fringe. Josh Jackson will always b...      1  positive   \n",
       "\n",
       "                                        text_cleaned  \n",
       "0  so sorry about your voice  just know that your...  \n",
       "1      i prefer a nice pen with a thick pad of paper  \n",
       "2  gloomy day here  i know that we need the rain ...  \n",
       "3     ooooh  well lets keep our fingers crossed then  \n",
       "4  it sucks when the guy you like likes someone e...  \n",
       "5  i was outside on the field of grass my sis was...  \n",
       "6  just finished ball facing the reality of assig...  \n",
       "7  how can you live with yourself you horrible ma...  \n",
       "8                                    im with piggggy  \n",
       "9  is watching fringe josh jackson will always be...  "
      ]
     },
     "execution_count": 379,
     "metadata": {},
     "output_type": "execute_result"
    }
   ],
   "source": [
    "# lowercasing\n",
    "data.loc[:, \"text_cleaned\"] = data.loc[:, \"text\"].apply(lambda x: x.lower())\n",
    "\n",
    "# remove @name tags\n",
    "data.loc[:, \"text_cleaned\"] = data.loc[:, \"text_cleaned\"].apply(lambda x: re.sub(r\"^@[\\w]+\", \"\", x))\n",
    "\n",
    "# remove inet adress\n",
    "data.loc[:, \"text_cleaned\"] = data.loc[:, \"text_cleaned\"].apply(lambda x: re.sub(r\"https?://[\\w\\d/]+\", \"\", x))\n",
    "\n",
    "# removing punctioation\n",
    "data.loc[:, \"text_cleaned\"] = data.loc[:, \"text_cleaned\"].apply(lambda x: re.sub(r\"[^\\w\\s]\", \"\", x).strip())\n",
    "\n",
    "# remove numbers\n",
    "data.loc[:, \"text_cleaned\"] = data.loc[:, \"text_cleaned\"].apply(lambda x: re.sub(r\"[\\d]\", \"\", x).strip())\n",
    "\n",
    "data.head(10)"
   ]
  },
  {
   "cell_type": "code",
   "execution_count": 380,
   "id": "95f44319",
   "metadata": {},
   "outputs": [],
   "source": [
    "from nltk.tokenize import word_tokenize\n",
    "from nltk.corpus import stopwords\n"
   ]
  },
  {
   "cell_type": "code",
   "execution_count": 381,
   "id": "33b51d2e",
   "metadata": {},
   "outputs": [],
   "source": [
    "# en_stopwords = stopwords.words(\"english\")\n",
    "# data.loc[:, \"text_cleaned\"] = data.loc[:, \"text_cleaned\"].apply(\n",
    "#     lambda x: \" \".join([word for word in x.split(\" \") if word not in en_stopwords])\n",
    "# )"
   ]
  },
  {
   "cell_type": "code",
   "execution_count": 382,
   "id": "3ff5b4a2",
   "metadata": {},
   "outputs": [],
   "source": [
    "data.loc[:, \"text_cleaned\"] = data.loc[:, \"text_cleaned\"].apply(lambda x: word_tokenize(x))"
   ]
  },
  {
   "cell_type": "code",
   "execution_count": 383,
   "id": "74f8e6e4",
   "metadata": {},
   "outputs": [
    {
     "data": {
      "text/html": [
       "<div>\n",
       "<style scoped>\n",
       "    .dataframe tbody tr th:only-of-type {\n",
       "        vertical-align: middle;\n",
       "    }\n",
       "\n",
       "    .dataframe tbody tr th {\n",
       "        vertical-align: top;\n",
       "    }\n",
       "\n",
       "    .dataframe thead th {\n",
       "        text-align: right;\n",
       "    }\n",
       "</style>\n",
       "<table border=\"1\" class=\"dataframe\">\n",
       "  <thead>\n",
       "    <tr style=\"text-align: right;\">\n",
       "      <th></th>\n",
       "      <th>text</th>\n",
       "      <th>label</th>\n",
       "      <th>sentiment</th>\n",
       "      <th>text_cleaned</th>\n",
       "    </tr>\n",
       "  </thead>\n",
       "  <tbody>\n",
       "    <tr>\n",
       "      <th>0</th>\n",
       "      <td>@ddlovato so sorry about your voice  just know...</td>\n",
       "      <td>0</td>\n",
       "      <td>negative</td>\n",
       "      <td>[so, sorry, about, your, voice, just, know, th...</td>\n",
       "    </tr>\n",
       "    <tr>\n",
       "      <th>1</th>\n",
       "      <td>@ListPlanIt I prefer a nice pen with a thick p...</td>\n",
       "      <td>1</td>\n",
       "      <td>positive</td>\n",
       "      <td>[i, prefer, a, nice, pen, with, a, thick, pad,...</td>\n",
       "    </tr>\n",
       "    <tr>\n",
       "      <th>2</th>\n",
       "      <td>Gloomy day here  I know that we need the rain,...</td>\n",
       "      <td>0</td>\n",
       "      <td>negative</td>\n",
       "      <td>[gloomy, day, here, i, know, that, we, need, t...</td>\n",
       "    </tr>\n",
       "    <tr>\n",
       "      <th>3</th>\n",
       "      <td>@Summa_Reign ooooh.  well let's keep our finge...</td>\n",
       "      <td>1</td>\n",
       "      <td>positive</td>\n",
       "      <td>[ooooh, well, lets, keep, our, fingers, crosse...</td>\n",
       "    </tr>\n",
       "    <tr>\n",
       "      <th>4</th>\n",
       "      <td>It sucks when the guy you like likes someone e...</td>\n",
       "      <td>0</td>\n",
       "      <td>negative</td>\n",
       "      <td>[it, sucks, when, the, guy, you, like, likes, ...</td>\n",
       "    </tr>\n",
       "    <tr>\n",
       "      <th>5</th>\n",
       "      <td>@richardtsang I was outside on the field of gr...</td>\n",
       "      <td>0</td>\n",
       "      <td>negative</td>\n",
       "      <td>[i, was, outside, on, the, field, of, grass, m...</td>\n",
       "    </tr>\n",
       "    <tr>\n",
       "      <th>6</th>\n",
       "      <td>Just finished ball. Facing the reality of assi...</td>\n",
       "      <td>0</td>\n",
       "      <td>negative</td>\n",
       "      <td>[just, finished, ball, facing, the, reality, o...</td>\n",
       "    </tr>\n",
       "    <tr>\n",
       "      <th>7</th>\n",
       "      <td>'How can you live with yourself you horrible m...</td>\n",
       "      <td>1</td>\n",
       "      <td>positive</td>\n",
       "      <td>[how, can, you, live, with, yourself, you, hor...</td>\n",
       "    </tr>\n",
       "    <tr>\n",
       "      <th>8</th>\n",
       "      <td>IM WITH PIGGGGY</td>\n",
       "      <td>1</td>\n",
       "      <td>positive</td>\n",
       "      <td>[im, with, piggggy]</td>\n",
       "    </tr>\n",
       "    <tr>\n",
       "      <th>9</th>\n",
       "      <td>is watching Fringe. Josh Jackson will always b...</td>\n",
       "      <td>1</td>\n",
       "      <td>positive</td>\n",
       "      <td>[is, watching, fringe, josh, jackson, will, al...</td>\n",
       "    </tr>\n",
       "  </tbody>\n",
       "</table>\n",
       "</div>"
      ],
      "text/plain": [
       "                                                text  label sentiment  \\\n",
       "0  @ddlovato so sorry about your voice  just know...      0  negative   \n",
       "1  @ListPlanIt I prefer a nice pen with a thick p...      1  positive   \n",
       "2  Gloomy day here  I know that we need the rain,...      0  negative   \n",
       "3  @Summa_Reign ooooh.  well let's keep our finge...      1  positive   \n",
       "4  It sucks when the guy you like likes someone e...      0  negative   \n",
       "5  @richardtsang I was outside on the field of gr...      0  negative   \n",
       "6  Just finished ball. Facing the reality of assi...      0  negative   \n",
       "7  'How can you live with yourself you horrible m...      1  positive   \n",
       "8                                   IM WITH PIGGGGY       1  positive   \n",
       "9  is watching Fringe. Josh Jackson will always b...      1  positive   \n",
       "\n",
       "                                        text_cleaned  \n",
       "0  [so, sorry, about, your, voice, just, know, th...  \n",
       "1  [i, prefer, a, nice, pen, with, a, thick, pad,...  \n",
       "2  [gloomy, day, here, i, know, that, we, need, t...  \n",
       "3  [ooooh, well, lets, keep, our, fingers, crosse...  \n",
       "4  [it, sucks, when, the, guy, you, like, likes, ...  \n",
       "5  [i, was, outside, on, the, field, of, grass, m...  \n",
       "6  [just, finished, ball, facing, the, reality, o...  \n",
       "7  [how, can, you, live, with, yourself, you, hor...  \n",
       "8                                [im, with, piggggy]  \n",
       "9  [is, watching, fringe, josh, jackson, will, al...  "
      ]
     },
     "execution_count": 383,
     "metadata": {},
     "output_type": "execute_result"
    }
   ],
   "source": [
    "data.head(10)"
   ]
  },
  {
   "cell_type": "code",
   "execution_count": 384,
   "id": "a610c5a6",
   "metadata": {},
   "outputs": [],
   "source": [
    "from nltk.stem import WordNetLemmatizer\n",
    "\n",
    "lemmatizer = WordNetLemmatizer()\n",
    "data.loc[:, \"text_cleaned\"] = data.loc[:, \"text_cleaned\"].apply(\n",
    "    lambda tokens: [lemmatizer.lemmatize(token) for token in tokens]\n",
    ")\n"
   ]
  },
  {
   "cell_type": "code",
   "execution_count": 385,
   "id": "6e0eb409",
   "metadata": {},
   "outputs": [
    {
     "name": "stderr",
     "output_type": "stream",
     "text": [
      "/tmp/ipykernel_96119/2469617569.py:3: SettingWithCopyWarning: \n",
      "A value is trying to be set on a copy of a slice from a DataFrame.\n",
      "Try using .loc[row_indexer,col_indexer] = value instead\n",
      "\n",
      "See the caveats in the documentation: https://pandas.pydata.org/pandas-docs/stable/user_guide/indexing.html#returning-a-view-versus-a-copy\n",
      "  data[\"bigrams\"] = data[\"text_cleaned\"].apply(lambda tokens: list(ngrams(tokens, 2)))\n"
     ]
    }
   ],
   "source": [
    "from nltk.util import ngrams\n",
    "\n",
    "data[\"bigrams\"] = data[\"text_cleaned\"].apply(lambda tokens: list(ngrams(tokens, 2)))\n",
    "\n",
    "data[\"trigrams\"] = data[\"text_cleaned\"].apply(lambda tokens: list(ngrams(tokens, 3)))\n"
   ]
  },
  {
   "cell_type": "code",
   "execution_count": 386,
   "id": "314ff6c2",
   "metadata": {},
   "outputs": [
    {
     "data": {
      "text/html": [
       "<div>\n",
       "<style scoped>\n",
       "    .dataframe tbody tr th:only-of-type {\n",
       "        vertical-align: middle;\n",
       "    }\n",
       "\n",
       "    .dataframe tbody tr th {\n",
       "        vertical-align: top;\n",
       "    }\n",
       "\n",
       "    .dataframe thead th {\n",
       "        text-align: right;\n",
       "    }\n",
       "</style>\n",
       "<table border=\"1\" class=\"dataframe\">\n",
       "  <thead>\n",
       "    <tr style=\"text-align: right;\">\n",
       "      <th></th>\n",
       "      <th>text</th>\n",
       "      <th>label</th>\n",
       "      <th>sentiment</th>\n",
       "      <th>text_cleaned</th>\n",
       "      <th>bigrams</th>\n",
       "      <th>trigrams</th>\n",
       "    </tr>\n",
       "  </thead>\n",
       "  <tbody>\n",
       "    <tr>\n",
       "      <th>0</th>\n",
       "      <td>@ddlovato so sorry about your voice  just know...</td>\n",
       "      <td>0</td>\n",
       "      <td>negative</td>\n",
       "      <td>[so, sorry, about, your, voice, just, know, th...</td>\n",
       "      <td>[(so, sorry), (sorry, about), (about, your), (...</td>\n",
       "      <td>[(so, sorry, about), (sorry, about, your), (ab...</td>\n",
       "    </tr>\n",
       "    <tr>\n",
       "      <th>1</th>\n",
       "      <td>@ListPlanIt I prefer a nice pen with a thick p...</td>\n",
       "      <td>1</td>\n",
       "      <td>positive</td>\n",
       "      <td>[i, prefer, a, nice, pen, with, a, thick, pad,...</td>\n",
       "      <td>[(i, prefer), (prefer, a), (a, nice), (nice, p...</td>\n",
       "      <td>[(i, prefer, a), (prefer, a, nice), (a, nice, ...</td>\n",
       "    </tr>\n",
       "    <tr>\n",
       "      <th>2</th>\n",
       "      <td>Gloomy day here  I know that we need the rain,...</td>\n",
       "      <td>0</td>\n",
       "      <td>negative</td>\n",
       "      <td>[gloomy, day, here, i, know, that, we, need, t...</td>\n",
       "      <td>[(gloomy, day), (day, here), (here, i), (i, kn...</td>\n",
       "      <td>[(gloomy, day, here), (day, here, i), (here, i...</td>\n",
       "    </tr>\n",
       "    <tr>\n",
       "      <th>3</th>\n",
       "      <td>@Summa_Reign ooooh.  well let's keep our finge...</td>\n",
       "      <td>1</td>\n",
       "      <td>positive</td>\n",
       "      <td>[ooooh, well, let, keep, our, finger, crossed,...</td>\n",
       "      <td>[(ooooh, well), (well, let), (let, keep), (kee...</td>\n",
       "      <td>[(ooooh, well, let), (well, let, keep), (let, ...</td>\n",
       "    </tr>\n",
       "    <tr>\n",
       "      <th>4</th>\n",
       "      <td>It sucks when the guy you like likes someone e...</td>\n",
       "      <td>0</td>\n",
       "      <td>negative</td>\n",
       "      <td>[it, suck, when, the, guy, you, like, like, so...</td>\n",
       "      <td>[(it, suck), (suck, when), (when, the), (the, ...</td>\n",
       "      <td>[(it, suck, when), (suck, when, the), (when, t...</td>\n",
       "    </tr>\n",
       "    <tr>\n",
       "      <th>5</th>\n",
       "      <td>@richardtsang I was outside on the field of gr...</td>\n",
       "      <td>0</td>\n",
       "      <td>negative</td>\n",
       "      <td>[i, wa, outside, on, the, field, of, grass, my...</td>\n",
       "      <td>[(i, wa), (wa, outside), (outside, on), (on, t...</td>\n",
       "      <td>[(i, wa, outside), (wa, outside, on), (outside...</td>\n",
       "    </tr>\n",
       "    <tr>\n",
       "      <th>6</th>\n",
       "      <td>Just finished ball. Facing the reality of assi...</td>\n",
       "      <td>0</td>\n",
       "      <td>negative</td>\n",
       "      <td>[just, finished, ball, facing, the, reality, o...</td>\n",
       "      <td>[(just, finished), (finished, ball), (ball, fa...</td>\n",
       "      <td>[(just, finished, ball), (finished, ball, faci...</td>\n",
       "    </tr>\n",
       "    <tr>\n",
       "      <th>7</th>\n",
       "      <td>'How can you live with yourself you horrible m...</td>\n",
       "      <td>1</td>\n",
       "      <td>positive</td>\n",
       "      <td>[how, can, you, live, with, yourself, you, hor...</td>\n",
       "      <td>[(how, can), (can, you), (you, live), (live, w...</td>\n",
       "      <td>[(how, can, you), (can, you, live), (you, live...</td>\n",
       "    </tr>\n",
       "    <tr>\n",
       "      <th>8</th>\n",
       "      <td>IM WITH PIGGGGY</td>\n",
       "      <td>1</td>\n",
       "      <td>positive</td>\n",
       "      <td>[im, with, piggggy]</td>\n",
       "      <td>[(im, with), (with, piggggy)]</td>\n",
       "      <td>[(im, with, piggggy)]</td>\n",
       "    </tr>\n",
       "    <tr>\n",
       "      <th>9</th>\n",
       "      <td>is watching Fringe. Josh Jackson will always b...</td>\n",
       "      <td>1</td>\n",
       "      <td>positive</td>\n",
       "      <td>[is, watching, fringe, josh, jackson, will, al...</td>\n",
       "      <td>[(is, watching), (watching, fringe), (fringe, ...</td>\n",
       "      <td>[(is, watching, fringe), (watching, fringe, jo...</td>\n",
       "    </tr>\n",
       "  </tbody>\n",
       "</table>\n",
       "</div>"
      ],
      "text/plain": [
       "                                                text  label sentiment  \\\n",
       "0  @ddlovato so sorry about your voice  just know...      0  negative   \n",
       "1  @ListPlanIt I prefer a nice pen with a thick p...      1  positive   \n",
       "2  Gloomy day here  I know that we need the rain,...      0  negative   \n",
       "3  @Summa_Reign ooooh.  well let's keep our finge...      1  positive   \n",
       "4  It sucks when the guy you like likes someone e...      0  negative   \n",
       "5  @richardtsang I was outside on the field of gr...      0  negative   \n",
       "6  Just finished ball. Facing the reality of assi...      0  negative   \n",
       "7  'How can you live with yourself you horrible m...      1  positive   \n",
       "8                                   IM WITH PIGGGGY       1  positive   \n",
       "9  is watching Fringe. Josh Jackson will always b...      1  positive   \n",
       "\n",
       "                                        text_cleaned  \\\n",
       "0  [so, sorry, about, your, voice, just, know, th...   \n",
       "1  [i, prefer, a, nice, pen, with, a, thick, pad,...   \n",
       "2  [gloomy, day, here, i, know, that, we, need, t...   \n",
       "3  [ooooh, well, let, keep, our, finger, crossed,...   \n",
       "4  [it, suck, when, the, guy, you, like, like, so...   \n",
       "5  [i, wa, outside, on, the, field, of, grass, my...   \n",
       "6  [just, finished, ball, facing, the, reality, o...   \n",
       "7  [how, can, you, live, with, yourself, you, hor...   \n",
       "8                                [im, with, piggggy]   \n",
       "9  [is, watching, fringe, josh, jackson, will, al...   \n",
       "\n",
       "                                             bigrams  \\\n",
       "0  [(so, sorry), (sorry, about), (about, your), (...   \n",
       "1  [(i, prefer), (prefer, a), (a, nice), (nice, p...   \n",
       "2  [(gloomy, day), (day, here), (here, i), (i, kn...   \n",
       "3  [(ooooh, well), (well, let), (let, keep), (kee...   \n",
       "4  [(it, suck), (suck, when), (when, the), (the, ...   \n",
       "5  [(i, wa), (wa, outside), (outside, on), (on, t...   \n",
       "6  [(just, finished), (finished, ball), (ball, fa...   \n",
       "7  [(how, can), (can, you), (you, live), (live, w...   \n",
       "8                      [(im, with), (with, piggggy)]   \n",
       "9  [(is, watching), (watching, fringe), (fringe, ...   \n",
       "\n",
       "                                            trigrams  \n",
       "0  [(so, sorry, about), (sorry, about, your), (ab...  \n",
       "1  [(i, prefer, a), (prefer, a, nice), (a, nice, ...  \n",
       "2  [(gloomy, day, here), (day, here, i), (here, i...  \n",
       "3  [(ooooh, well, let), (well, let, keep), (let, ...  \n",
       "4  [(it, suck, when), (suck, when, the), (when, t...  \n",
       "5  [(i, wa, outside), (wa, outside, on), (outside...  \n",
       "6  [(just, finished, ball), (finished, ball, faci...  \n",
       "7  [(how, can, you), (can, you, live), (you, live...  \n",
       "8                              [(im, with, piggggy)]  \n",
       "9  [(is, watching, fringe), (watching, fringe, jo...  "
      ]
     },
     "execution_count": 386,
     "metadata": {},
     "output_type": "execute_result"
    }
   ],
   "source": [
    "data.head(10)"
   ]
  },
  {
   "cell_type": "code",
   "execution_count": 404,
   "id": "c2185264",
   "metadata": {},
   "outputs": [],
   "source": [
    "data[\"bigrams_str\"] = data[\"bigrams\"].apply(lambda grams: [\"_\".join(gram) for gram in grams])\n",
    "data[\"trigrams_str\"] = data[\"trigrams\"].apply(lambda grams: [\"_\".join(gram) for gram in grams])\n"
   ]
  },
  {
   "cell_type": "code",
   "execution_count": 405,
   "id": "59b1632d",
   "metadata": {},
   "outputs": [],
   "source": [
    "bigram_corpus = data[\"bigrams_str\"].apply(lambda tokens: \" \".join(tokens))\n",
    "trigram_corpus = data[\"trigrams_str\"].apply(lambda tokens: \" \".join(tokens))"
   ]
  },
  {
   "cell_type": "code",
   "execution_count": 406,
   "id": "c1f39bf6",
   "metadata": {},
   "outputs": [
    {
     "data": {
      "text/plain": [
       "0       so_sorry_about sorry_about_your about_your_voi...\n",
       "1       i_prefer_a prefer_a_nice a_nice_pen nice_pen_w...\n",
       "2       gloomy_day_here day_here_i here_i_know i_know_...\n",
       "3       ooooh_well_let well_let_keep let_keep_our keep...\n",
       "4       it_suck_when suck_when_the when_the_guy the_gu...\n",
       "                              ...                        \n",
       "9995    watchinq_the_scorpion the_scorpion_king scorpi...\n",
       "9996    currently_a_big a_big_fan big_fan_of fan_of_sl...\n",
       "9997    wow_i_wa i_wa_texting wa_texting_and texting_a...\n",
       "9998    im_so_craving so_craving_coffee craving_coffee...\n",
       "9999                                                     \n",
       "Name: trigrams_str, Length: 10000, dtype: object"
      ]
     },
     "execution_count": 406,
     "metadata": {},
     "output_type": "execute_result"
    }
   ],
   "source": [
    "trigram_corpus"
   ]
  },
  {
   "cell_type": "code",
   "execution_count": 407,
   "id": "d46fbedc",
   "metadata": {},
   "outputs": [],
   "source": [
    "Y = data[\"label\"]"
   ]
  },
  {
   "cell_type": "code",
   "execution_count": 408,
   "id": "fe588333",
   "metadata": {},
   "outputs": [],
   "source": [
    "from sklearn.model_selection import train_test_split\n",
    "from sklearn.linear_model import LogisticRegression\n",
    "from sklearn.metrics import accuracy_score"
   ]
  },
  {
   "cell_type": "code",
   "execution_count": null,
   "id": "9e40c948",
   "metadata": {},
   "outputs": [],
   "source": [
    "from sklearn.feature_extraction.text import CountVectorizer\n",
    "\n",
    "countvec = CountVectorizer()\n",
    "\n",
    "X = countvec.fit_transform(bigram_corpus)\n"
   ]
  },
  {
   "cell_type": "markdown",
   "id": "c4415ff9",
   "metadata": {},
   "source": [
    "TF-IDF Logistic Regression"
   ]
  },
  {
   "cell_type": "code",
   "execution_count": 413,
   "id": "332c5df6",
   "metadata": {},
   "outputs": [],
   "source": [
    "from sklearn.feature_extraction.text import TfidfTransformer\n",
    "\n",
    "tfidf = TfidfTransformer()\n",
    "X = tfidf.fit_transform(X)\n"
   ]
  },
  {
   "cell_type": "code",
   "execution_count": 414,
   "id": "cc3ef21d",
   "metadata": {},
   "outputs": [],
   "source": [
    "x_train, x_test, y_train, y_test = train_test_split(X, Y, test_size=0.15)\n"
   ]
  },
  {
   "cell_type": "code",
   "execution_count": 415,
   "id": "c173336e",
   "metadata": {},
   "outputs": [
    {
     "name": "stdout",
     "output_type": "stream",
     "text": [
      "0.6050588235294118\n",
      "LogisticRegression(C=1, class_weight='balanced', max_iter=1000)\n"
     ]
    }
   ],
   "source": [
    "from sklearn.model_selection import GridSearchCV\n",
    "\n",
    "param_grid = {\"C\": [0.01, 0.1, 1, 10]}\n",
    "lr = LogisticRegression(class_weight=\"balanced\", max_iter=1000)\n",
    "\n",
    "grid = GridSearchCV(estimator=lr, param_grid=param_grid, cv=5)\n",
    "grid.fit(x_train, y_train)\n",
    "print(grid.best_score_)\n",
    "print(grid.best_estimator_)"
   ]
  },
  {
   "cell_type": "code",
   "execution_count": 416,
   "id": "cdb65b2d",
   "metadata": {},
   "outputs": [],
   "source": [
    "lr = LogisticRegression(class_weight=\"balanced\", max_iter=1000, C=1)\n",
    "lr.fit(x_train, y_train)\n",
    "y_pred = lr.predict(x_test)\n",
    "acc = accuracy_score(y_test, y_pred)\n"
   ]
  },
  {
   "cell_type": "code",
   "execution_count": 417,
   "id": "d412da43",
   "metadata": {},
   "outputs": [
    {
     "name": "stdout",
     "output_type": "stream",
     "text": [
      "0.602\n"
     ]
    }
   ],
   "source": [
    "print(acc)"
   ]
  },
  {
   "cell_type": "markdown",
   "id": "9cfc5666",
   "metadata": {},
   "source": [
    "TF-IDF Naive Bayes"
   ]
  },
  {
   "cell_type": "code",
   "execution_count": 418,
   "id": "bb4f7b57",
   "metadata": {},
   "outputs": [
    {
     "name": "stdout",
     "output_type": "stream",
     "text": [
      "0.606\n"
     ]
    }
   ],
   "source": [
    "from sklearn.naive_bayes import MultinomialNB\n",
    "\n",
    "model = MultinomialNB().fit(x_train, y_train)\n",
    "y_pred = model.predict(x_test)\n",
    "acc = accuracy_score(y_test, y_pred)\n",
    "print(acc)\n"
   ]
  },
  {
   "cell_type": "markdown",
   "id": "6eec0468",
   "metadata": {},
   "source": [
    "TF-IDF SVM "
   ]
  },
  {
   "cell_type": "code",
   "execution_count": 419,
   "id": "a939017b",
   "metadata": {},
   "outputs": [
    {
     "name": "stdout",
     "output_type": "stream",
     "text": [
      "0.6050588235294118\n",
      "LinearSVC(C=0.01, class_weight='balanced')\n"
     ]
    }
   ],
   "source": [
    "from sklearn.svm import LinearSVC\n",
    "\n",
    "svc = LinearSVC(class_weight=\"balanced\")\n",
    "params = {\"C\": [0.01, 0.1, 1, 10]}\n",
    "grid = GridSearchCV(estimator=svc, param_grid=param_grid, cv=5)\n",
    "grid.fit(x_train, y_train)\n",
    "print(grid.best_score_)\n",
    "print(grid.best_estimator_)\n"
   ]
  },
  {
   "cell_type": "code",
   "execution_count": 420,
   "id": "cbe6d35e",
   "metadata": {},
   "outputs": [
    {
     "name": "stdout",
     "output_type": "stream",
     "text": [
      "0.5193333333333333\n"
     ]
    }
   ],
   "source": [
    "model = LinearSVC(**grid.best_params_).fit(x_train, y_train)\n",
    "y_pred = model.predict(x_test)\n",
    "acc = accuracy_score(y_test, y_pred)\n",
    "print(acc)\n"
   ]
  },
  {
   "cell_type": "code",
   "execution_count": 354,
   "id": "df23959b",
   "metadata": {},
   "outputs": [
    {
     "data": {
      "text/plain": [
       "['ML_models/tfidf_transformer.pkl']"
      ]
     },
     "execution_count": 354,
     "metadata": {},
     "output_type": "execute_result"
    }
   ],
   "source": [
    "import joblib\n",
    "\n",
    "joblib.dump(countvec, \"ML_models/CountVec.pkl\")\n",
    "joblib.dump(model, \"ML_models/SVC.pkl\")\n",
    "joblib.dump(tfidf, \"ML_models/tfidf_transformer.pkl\")"
   ]
  },
  {
   "cell_type": "code",
   "execution_count": 228,
   "id": "790d786c",
   "metadata": {},
   "outputs": [
    {
     "name": "stdout",
     "output_type": "stream",
     "text": [
      "[[0. 0. 0. ... 0. 0. 0.]\n",
      " [0. 0. 0. ... 0. 0. 0.]\n",
      " [0. 0. 0. ... 0. 0. 0.]\n",
      " ...\n",
      " [0. 0. 0. ... 0. 0. 0.]\n",
      " [0. 0. 0. ... 0. 0. 0.]\n",
      " [0. 0. 0. ... 0. 0. 0.]]\n"
     ]
    }
   ],
   "source": [
    "print(x_test.toarray())"
   ]
  }
 ],
 "metadata": {
  "kernelspec": {
   "display_name": "venv",
   "language": "python",
   "name": "python3"
  },
  "language_info": {
   "codemirror_mode": {
    "name": "ipython",
    "version": 3
   },
   "file_extension": ".py",
   "mimetype": "text/x-python",
   "name": "python",
   "nbconvert_exporter": "python",
   "pygments_lexer": "ipython3",
   "version": "3.12.3"
  }
 },
 "nbformat": 4,
 "nbformat_minor": 5
}
